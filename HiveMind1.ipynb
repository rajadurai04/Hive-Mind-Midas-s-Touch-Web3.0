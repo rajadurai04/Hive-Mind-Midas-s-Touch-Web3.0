{
  "cells": [
    {
      "cell_type": "markdown",
      "metadata": {
        "id": "view-in-github",
        "colab_type": "text"
      },
      "source": [
        "<a href=\"https://colab.research.google.com/github/rajadurai04/Hive-Mind-Midas-s-Touch-Web3.0/blob/main/HiveMind1.ipynb\" target=\"_parent\"><img src=\"https://colab.research.google.com/assets/colab-badge.svg\" alt=\"Open In Colab\"/></a>"
      ]
    },
    {
      "cell_type": "code",
      "execution_count": null,
      "metadata": {
        "id": "QKoHP1hy79zm"
      },
      "outputs": [],
      "source": [
        "import pandas as pd\n",
        "from sklearn.feature_extraction.text import TfidfVectorizer\n",
        "from sklearn.linear_model import LogisticRegression\n",
        "\n",
        "# Load the data\n",
        "data = pd.read_csv('ideas.csv')\n",
        "\n",
        "\n"
      ]
    },
    {
      "cell_type": "code",
      "execution_count": null,
      "metadata": {
        "colab": {
          "base_uri": "https://localhost:8080/"
        },
        "id": "TySQW0Cx8h3c",
        "outputId": "101c4453-1207-4a17-d5e9-a5c91378e97e"
      },
      "outputs": [
        {
          "name": "stdout",
          "output_type": "stream",
          "text": [
            "                 text                     label\n",
            "0     dream come true              dreamcatcher\n",
            "1            farmeasy        to connect farmers\n",
            "2            Hivemind       to store your ideas\n",
            "3  Handicap assistant    to assit the handicaps\n",
            "4          Architizer  Your architect assistant\n"
          ]
        }
      ],
      "source": [
        "data = pd.read_csv('ideas.csv')\n",
        "print(data.head())"
      ]
    },
    {
      "cell_type": "code",
      "execution_count": null,
      "metadata": {
        "colab": {
          "background_save": true,
          "base_uri": "https://localhost:8080/"
        },
        "id": "OsPnp3wnJciA",
        "outputId": "a705e4b8-786e-49ba-ceb0-ec74208e476c"
      },
      "outputs": [
        {
          "name": "stdout",
          "output_type": "stream",
          "text": [
            "Looking in indexes: https://pypi.org/simple, https://us-python.pkg.dev/colab-wheels/public/simple/\n",
            "Requirement already satisfied: fuzzywuzzy in /usr/local/lib/python3.10/dist-packages (0.18.0)\n",
            "The idea is not unique.\n"
          ]
        }
      ],
      "source": [
        "import pandas as pd\n",
        "!pip install fuzzywuzzy\n",
        "from fuzzywuzzy import fuzz\n",
        "\n",
        "# load the database\n",
        "df = pd.read_csv('ideas.csv')\n",
        "\n",
        "def is_unique(idea_title, idea_description):\n",
        "    \"\"\"\n",
        "    Check if an idea is unique by comparing its title and description to the ideas in the database.\n",
        "    The idea description is given more importance than the title.\n",
        "\n",
        "    Parameters:\n",
        "        idea_title (str): The title of the idea.\n",
        "        idea_description (str): The description of the idea.\n",
        "\n",
        "    Returns:\n",
        "        bool: True if the idea is unique, False otherwise.\n",
        "    \"\"\"\n",
        "\n",
        "    # iterate through the ideas in the database\n",
        "    for _, row in df.iterrows():\n",
        "        # compare the similarity between the idea description and the database description\n",
        "        description_similarity = fuzz.token_set_ratio(idea_description.lower(), row['text'].lower())\n",
        "\n",
        "        # compare the similarity between the idea title and the database label\n",
        "        title_similarity = fuzz.token_set_ratio(idea_title.lower(), row['label'].lower())\n",
        "\n",
        "        # if the idea is already in the database or the description similarity is greater than 70%\n",
        "        if (description_similarity > 70) or (title_similarity > 70):\n",
        "            return False\n",
        "    \n",
        "    # if the idea is not in the database and the description similarity is less than or equal to 70%\n",
        "    # then it is considered unique and added to the database\n",
        "    df.loc[len(df.index)] = [idea_description, idea_title]\n",
        "    df.to_csv('ideas_database.csv', index=False)\n",
        "    return True\n",
        "\n",
        "\n",
        "# prompt user for input\n",
        "while True:\n",
        "    idea_title = input(\"Enter the idea description \")\n",
        "    if idea_title == 'exit':\n",
        "        break\n",
        "    idea_description = input(\"Enter the idea name \")\n",
        "    if is_unique(idea_title, idea_description):\n",
        "        print(\"The idea is unique! Adding it to the database...\")\n",
        "    else:\n",
        "        print(\"The idea is not unique.\")\n"
      ]
    },
    {
      "cell_type": "code",
      "execution_count": null,
      "metadata": {
        "id": "ElS8yiVXpJfx"
      },
      "outputs": [],
      "source": []
    }
  ],
  "metadata": {
    "colab": {
      "provenance": [],
      "authorship_tag": "ABX9TyMwONOXcj0EORZu+zErFsDs",
      "include_colab_link": true
    },
    "kernelspec": {
      "display_name": "Python 3",
      "name": "python3"
    },
    "language_info": {
      "name": "python"
    }
  },
  "nbformat": 4,
  "nbformat_minor": 0
}